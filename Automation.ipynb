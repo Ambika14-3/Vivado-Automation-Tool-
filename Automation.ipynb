{
 "cells": [
  {
   "cell_type": "code",
   "execution_count": 1,
   "id": "9282680b-110e-4ae6-b41d-8994de34a474",
   "metadata": {},
   "outputs": [],
   "source": [
    "import os\n",
    "import shutil\n",
    "import numpy as np\n",
    "import pandas as pd\n",
    "import matplotlib.pyplot as plt\n",
    "import datetime"
   ]
  },
  {
   "cell_type": "markdown",
   "id": "a1200176-b5a9-4a30-9201-8c46b48886d7",
   "metadata": {},
   "source": [
    "## Run Vivado"
   ]
  },
  {
   "cell_type": "code",
   "execution_count": 2,
   "id": "ca7ae067-01b5-4f14-9ebe-c1b0f195a411",
   "metadata": {},
   "outputs": [
    {
     "name": "stdout",
     "output_type": "stream",
     "text": [
      "['top_CLA8.v', 'top_CLA16.v', 'top_CLA32.v', 'PGGen.v', '.ipynb_checkpoints', 'clocl_gen.v', 'top_a1_q1_rca_8bit.v', 'top_a1_q2_array_multi_4bit.v', 'top_a1_q3_pri_encoder_8x3.v', 'top_a1_q3_struct_pri_enc_8x3.v', 'top_a1_q4_mealy_fsm.v', 'top_a1_q4_moore_fsm.v', 'top_a2_q1_fsm.sv', 'top_a2_q2_RegFile.sv', 'top_a3_q1_conv_pipeline.sv', 'top_a2_q3_fifo_1.sv']\n",
      "['top_CLA8.v', 'top_CLA16.v', 'top_CLA32.v', 'PGGen.v', 'clocl_gen.v', 'top_a1_q1_rca_8bit.v', 'top_a1_q2_array_multi_4bit.v', 'top_a1_q3_pri_encoder_8x3.v', 'top_a1_q3_struct_pri_enc_8x3.v', 'top_a1_q4_mealy_fsm.v', 'top_a1_q4_moore_fsm.v', 'top_a2_q1_fsm.sv', 'top_a2_q2_RegFile.sv', 'top_a3_q1_conv_pipeline.sv', 'top_a2_q3_fifo_1.sv']\n"
     ]
    }
   ],
   "source": [
    "modules = os.listdir(\"Modules\")\n",
    "print(modules)\n",
    "modules_verilog = [mod for mod in modules if (mod[-2:]=='.v' or mod[-3:]=='.sv' )]\n",
    "print(modules_verilog)\n"
   ]
  },
  {
   "cell_type": "code",
   "execution_count": 3,
   "id": "743f380d-fc06-4b61-b659-4f87d590ff83",
   "metadata": {},
   "outputs": [
    {
     "name": "stdout",
     "output_type": "stream",
     "text": [
      "/home/vlsidesign16/Work/IC_Design/Auto/Automation_demo\n",
      "/home/vlsidesign16/Work/IC_Design/Auto/Impl_Automation_demo\n",
      "Removed Project\n"
     ]
    },
    {
     "data": {
      "text/plain": [
       "'vivado -mode batch -source Script/tcl_add.tcl -tclargs  Modules/top_CLA8.v Modules/top_CLA16.v Modules/top_CLA32.v Modules/PGGen.v Modules/clocl_gen.v Modules/top_a1_q1_rca_8bit.v Modules/top_a1_q2_array_multi_4bit.v Modules/top_a1_q3_pri_encoder_8x3.v Modules/top_a1_q3_struct_pri_enc_8x3.v Modules/top_a1_q4_mealy_fsm.v Modules/top_a1_q4_moore_fsm.v Modules/top_a2_q1_fsm.sv Modules/top_a2_q2_RegFile.sv Modules/top_a3_q1_conv_pipeline.sv Modules/top_a2_q3_fifo_1.sv '"
      ]
     },
     "execution_count": 3,
     "metadata": {},
     "output_type": "execute_result"
    }
   ],
   "source": [
    "top_modules = [mod for mod in modules if mod[:3]=='top']\n",
    "#print(top_modules)\n",
    "\n",
    "module_list = \" \"\n",
    "for x in modules_verilog:\n",
    "    module_list += \"Modules/\" + x + \" \"\n",
    "\n",
    "#print(module_list)\n",
    "    \n",
    "    \n",
    "file = open(os.getcwd() + '/Script/tcl_add.tcl')\n",
    "lines = file.readlines()\n",
    "#print(lines)\n",
    "#print(lines[0].split()[2])\n",
    "#print(lines[1].split()[3])\n",
    "\n",
    "path1 = os.getcwd()\n",
    "path2 = path1 + '/' + lines[0].split()[2]\n",
    "print(path2)\n",
    "\n",
    "impl_folder = 'Impl_' + lines[0].split()[2]\n",
    "impl_folder_path = path1 + '/' + impl_folder\n",
    "\n",
    "print(path1 + '/' + 'Impl_' + lines[0].split()[2] )\n",
    "\n",
    "if(os.path.exists(path2)):\n",
    "    print(\"Removed Project\")\n",
    "    shutil.rmtree(path2)\n",
    "    \n",
    "if(os.path.exists(impl_folder_path)):\n",
    "    print(path1 + '/' + 'Impl_' + lines[0].split()[2] )\n",
    "    shutil.rmtree(path1 + '/' + 'Impl_' + lines[0].split()[2] )\n",
    "\n",
    "os.mkdir(impl_folder)\n",
    "    \n",
    "\n",
    "    \n",
    "command_add_files = \"vivado -mode batch -source Script/tcl_add.tcl -tclargs\" + \" \" + module_list\n",
    "command_add_files\n"
   ]
  },
  {
   "cell_type": "code",
   "execution_count": 4,
   "id": "2af77428-dce8-40ef-a0b6-13875ef38dd8",
   "metadata": {
    "tags": []
   },
   "outputs": [
    {
     "data": {
      "text/plain": [
       "0"
      ]
     },
     "execution_count": 4,
     "metadata": {},
     "output_type": "execute_result"
    }
   ],
   "source": [
    "os.system(command_add_files)"
   ]
  },
  {
   "cell_type": "code",
   "execution_count": 5,
   "id": "e8478e12-536c-4197-8004-746b42e09054",
   "metadata": {},
   "outputs": [],
   "source": [
    "#os.system(\"vivado -mode batch -source Script/add_demo.tcl {}\".format(module_list))"
   ]
  },
  {
   "cell_type": "markdown",
   "id": "a5cfd723-e730-45d0-880c-ea5be39fc542",
   "metadata": {},
   "source": [
    "top_modules"
   ]
  },
  {
   "cell_type": "code",
   "execution_count": 6,
   "id": "5b36ade3-216c-4178-9352-3d8997d45140",
   "metadata": {},
   "outputs": [
    {
     "name": "stdout",
     "output_type": "stream",
     "text": [
      "top_CLA8.v\n",
      "top_CLA16.v\n",
      "top_CLA32.v\n",
      "top_a1_q1_rca_8bit.v\n",
      "top_a1_q2_array_multi_4bit.v\n",
      "top_a1_q3_pri_encoder_8x3.v\n",
      "top_a1_q3_struct_pri_enc_8x3.v\n",
      "top_a1_q4_mealy_fsm.v\n",
      "top_a1_q4_moore_fsm.v\n",
      "top_a2_q1_fsm.sv\n",
      "top_a2_q2_RegFile.sv\n",
      "top_a3_q1_conv_pipeline.sv\n",
      "top_a2_q3_fifo_1.sv\n"
     ]
    }
   ],
   "source": [
    "for filename in top_modules:\n",
    "    os.mkdir(impl_folder + \"/\" +filename[:-2])\n",
    "    print(filename)\n",
    "    os.system(\"vivado -mode batch -source Script/tcl_run.tcl -tclargs {}\".format(filename))"
   ]
  },
  {
   "cell_type": "code",
   "execution_count": 8,
   "id": "917c20b2-d3dd-4a98-9780-a771e22a2aeb",
   "metadata": {},
   "outputs": [
    {
     "data": {
      "text/plain": [
       "['top_CLA8.v',\n",
       " 'top_CLA16.v',\n",
       " 'top_CLA32.v',\n",
       " 'top_a1_q1_rca_8bit.v',\n",
       " 'top_a1_q2_array_multi_4bit.v',\n",
       " 'top_a1_q3_pri_encoder_8x3.v',\n",
       " 'top_a1_q3_struct_pri_enc_8x3.v',\n",
       " 'top_a1_q4_mealy_fsm.v',\n",
       " 'top_a1_q4_moore_fsm.v',\n",
       " 'top_a2_q1_fsm.sv',\n",
       " 'top_a2_q2_RegFile.sv',\n",
       " 'top_a3_q1_conv_pipeline.sv',\n",
       " 'top_a2_q3_fifo_1.sv']"
      ]
     },
     "execution_count": 8,
     "metadata": {},
     "output_type": "execute_result"
    }
   ],
   "source": [
    "top_modules"
   ]
  },
  {
   "cell_type": "code",
   "execution_count": 9,
   "id": "93097e73-e4d5-4609-af94-7236da5e901f",
   "metadata": {},
   "outputs": [
    {
     "data": {
      "text/plain": [
       "'top_a2_q3_fifo_1.'"
      ]
     },
     "execution_count": 9,
     "metadata": {},
     "output_type": "execute_result"
    }
   ],
   "source": [
    "top_modules[-1][:-2]"
   ]
  },
  {
   "cell_type": "code",
   "execution_count": 10,
   "id": "f50ef19b-f141-4e56-9083-e8667174e867",
   "metadata": {},
   "outputs": [
    {
     "data": {
      "text/plain": [
       "['top_CLA8.v',\n",
       " 'top_CLA16.v',\n",
       " 'top_CLA32.v',\n",
       " 'top_a1_q1_rca_8bit.v',\n",
       " 'top_a1_q2_array_multi_4bit.v',\n",
       " 'top_a1_q3_pri_encoder_8x3.v',\n",
       " 'top_a1_q3_struct_pri_enc_8x3.v',\n",
       " 'top_a1_q4_mealy_fsm.v',\n",
       " 'top_a1_q4_moore_fsm.v',\n",
       " 'top_a2_q1_fsm.sv',\n",
       " 'top_a2_q2_RegFile.sv',\n",
       " 'top_a3_q1_conv_pipeline.sv',\n",
       " 'top_a2_q3_fifo_1.sv']"
      ]
     },
     "execution_count": 10,
     "metadata": {},
     "output_type": "execute_result"
    }
   ],
   "source": [
    "top_modules\n"
   ]
  },
  {
   "cell_type": "markdown",
   "id": "272abea2-b6f2-48d1-b545-125ac199bbcf",
   "metadata": {},
   "source": [
    "## Analyse Metric"
   ]
  },
  {
   "cell_type": "code",
   "execution_count": 37,
   "id": "4edacd33-3fe4-457b-a042-0b77eddd236b",
   "metadata": {},
   "outputs": [
    {
     "name": "stdout",
     "output_type": "stream",
     "text": [
      "['power', 'timing', 'utilization']\n",
      "['top_CLA8', 'top_CLA16', 'top_CLA32']\n"
     ]
    }
   ],
   "source": [
    "designs = os.listdir(impl_folder)\n",
    "file = [\"power.txt\", \"timing.txt\",\"utilization.txt\"]\n",
    "col = [\"power\", \"timing\",\"utilization\"]\n",
    "print(col)\n",
    "print(designs)"
   ]
  },
  {
   "cell_type": "code",
   "execution_count": 38,
   "id": "5ed52138-9a89-4cb7-8e73-4f148298f7b0",
   "metadata": {},
   "outputs": [
    {
     "data": {
      "text/plain": [
       "['top_CLA8.v', 'top_CLA16.v', 'top_CLA32.v']"
      ]
     },
     "execution_count": 38,
     "metadata": {},
     "output_type": "execute_result"
    }
   ],
   "source": [
    "top_modules "
   ]
  },
  {
   "cell_type": "code",
   "execution_count": 39,
   "id": "9b051b1a-fd0a-45f4-941d-6b214bb5d4a5",
   "metadata": {},
   "outputs": [
    {
     "data": {
      "text/plain": [
       "['top_CLA8', 'top_CLA16', 'top_CLA32']"
      ]
     },
     "execution_count": 39,
     "metadata": {},
     "output_type": "execute_result"
    }
   ],
   "source": [
    "designs"
   ]
  },
  {
   "cell_type": "code",
   "execution_count": 41,
   "id": "a09844b8-115b-4735-8634-d0fca7070e88",
   "metadata": {},
   "outputs": [
    {
     "name": "stdout",
     "output_type": "stream",
     "text": [
      "['| Static Power   |     0.088 |          |           |                 |']\n",
      "4\n",
      "0\n",
      "0\n",
      "['| Static Power   |     0.156 |          |           |                 |']\n",
      "10\n",
      "1\n",
      "1\n",
      "['| Static Power   |     0.485 |          |           |                 |']\n",
      "33\n",
      "2\n",
      "2\n",
      "[4, 10, 33]\n"
     ]
    }
   ],
   "source": [
    "DatapathDelay = []\n",
    "DynamicPower = []\n",
    "Utilization = [] \n",
    "SignalPower = []\n",
    "TotalPower  = []\n",
    "StaticPower = []\n",
    "F7_Muxes    = []\n",
    "LogicPower = []\n",
    "LUT_as_Memory = []\n",
    "LUT_as_Memory2 = []\n",
    "LUT_as_Logic = []\n",
    "LUT_as_Logic2 = []\n",
    "Slice_LUTs  = []\n",
    "Slice_LUTs2 = []\n",
    "LUTs_difference = []\n",
    "LUT1 = [0]*(len(designs))\n",
    "LUT2 = [0]*(len(designs))\n",
    "LUT3 = [0]*(len(designs))\n",
    "LUT4 = [0]*(len(designs))\n",
    "LUT5 = [0]*(len(designs))\n",
    "LUT6 = [0]*(len(designs))\n",
    "LUT7 = [0]*(len(designs))\n",
    "\n",
    "#print(LUT1)\n",
    "\n",
    "\n",
    "\n",
    "i = 0 \n",
    "\n",
    "for mod in top_modules :\n",
    "    with open(impl_folder + \"/{}/timing.txt\".format(mod[:-2])) as f:\n",
    "        lines = f.read()\n",
    "        timing = lines.split(\"\\n\")\n",
    "        timing_info = [line for line in timing if \"Data Path Delay\" in line]\n",
    "        dpd = float(timing_info[0].split()[3][:-2])\n",
    "        DatapathDelay.append(dpd)\n",
    "        \n",
    "        \n",
    "        \n",
    "        \n",
    "    with open(impl_folder + \"/{}/power.txt\".format(mod[:-2])) as f:\n",
    "        lines = f.read()\n",
    "        power = lines.split(\"\\n\")\n",
    "        \n",
    "        # DC Power\n",
    "        power_info = [line for line in power if \"Dynamic\" in line]\n",
    "        dpower = float(power_info[0].split(\"|\")[2].strip())\n",
    "        DynamicPower.append(dpower)\n",
    "        \n",
    "        # Signal Power(w)\n",
    "        signals_info = [line for line in power if \"Signals\" in line]\n",
    "        signalpower = float(signals_info[0].split(\"|\")[2].strip())\n",
    "        SignalPower.append(signalpower)\n",
    "        \n",
    "        # Total Power(w)\n",
    "        total_power_info = [line for line in power if \"Total On-Chip Power (W)\" in line]\n",
    "        total_power = (total_power_info[0].split(\"|\")[2].strip())\n",
    "        TotalPower.append(total_power)\n",
    "        \n",
    "        # Logic Power(w)\n",
    "        LogicPower_info = [line for line in power if \"Slice Logic\" in line]\n",
    "        total_power = float(LogicPower_info[0].split(\"|\")[2].strip())\n",
    "        LogicPower.append(total_power)\n",
    "        \n",
    "        # Static Power(w)\n",
    "        StaticPower_info = [line for line in power if \"Static Power\" in line]\n",
    "        print(StaticPower_info)\n",
    "        total_power = float(StaticPower_info[0].split(\"|\")[2].strip())\n",
    "        StaticPower.append(total_power)\n",
    "        \n",
    "       \n",
    "        \n",
    "\n",
    "        \n",
    "\n",
    "        \n",
    "        \n",
    "        \n",
    "    with open(impl_folder + \"/{}/utilization.txt\".format(mod[:-2])) as f:\n",
    "        lines = f.read()\n",
    "        uti = lines.split(\"\\n\")\n",
    "        \n",
    "        \n",
    "        # F7 Muxes\n",
    "        F7_Muxes_info = [line for line in uti if \"F7 Muxes\" in line]\n",
    "      #  print(F7_Muxes_info)\n",
    "        util = int(F7_Muxes_info[0].split(\"|\")[2].strip())\n",
    "        F7_Muxes.append(util)\n",
    "        \n",
    "        # LUT_as_Memory and LUT_as_Memory2\n",
    "        LUT_as_Memory_info = [line for line in uti if \"LUT as Memory\" in line]\n",
    "        util1 = int(LUT_as_Memory_info[0].split(\"|\")[2].strip())\n",
    "        util2 = int(LUT_as_Memory_info[1].split(\"|\")[2].strip())\n",
    "        LUT_as_Memory.append(util1)\n",
    "        LUT_as_Memory2.append(util2)\n",
    "        \n",
    "        \n",
    "        \n",
    "        # LUT_as_Logic and LUT_as_Logic2\n",
    "        LUT_as_Logic_info = [line for line in uti if \"LUT as Logic\" in line]\n",
    "        util1 = int(LUT_as_Logic_info[0].split(\"|\")[2].strip())\n",
    "        util2 = int(LUT_as_Logic_info[1].split(\"|\")[2].strip())\n",
    "        LUT_as_Logic.append(util1)\n",
    "        LUT_as_Logic2.append(util2)\n",
    "        \n",
    "        # Slice_LUTs and Slice_LUTs2\n",
    "        Slice_LUTs_info = [line for line in uti if \"Slice LUTs\" in line]\n",
    "        util1 = int(Slice_LUTs_info[0].split(\"|\")[2].strip())\n",
    "        Slice_LUTs.append(util1)\n",
    "        \n",
    "        Slice_LUTs2_info = [line for line in uti if \"| Slice                    |\" in line]\n",
    "        util2 = int(Slice_LUTs2_info[0].split(\"|\")[2].strip())\n",
    "        print(util2)\n",
    "        Slice_LUTs2.append(util2)\n",
    "        \n",
    "        \n",
    "        # LUTs_difference\n",
    "        LUTs_difference.append(abs(util1 - util2))\n",
    " \n",
    "\n",
    "\n",
    "        # LUT1\n",
    "        LUT1_info = [line for line in uti if \"LUT1\" in line]\n",
    "        if(LUT1_info):\n",
    "            util = int(LUT1_info[0].split(\"|\")[2].strip())\n",
    "            #print(i)\n",
    "            LUT1[i] = util\n",
    "            \n",
    "        # LUT2\n",
    "        LUT2_info = [line for line in uti if \"LUT2\" in line]\n",
    "        if(LUT2_info):\n",
    "            util = int(LUT2_info[0].split(\"|\")[2].strip())\n",
    "            #print(i)\n",
    "            LUT2[i] = util\n",
    "            \n",
    "        # LUT3\n",
    "        LUT3_info = [line for line in uti if \"LUT3\" in line]\n",
    "        if(LUT3_info):\n",
    "            util = int(LUT3_info[0].split(\"|\")[2].strip())\n",
    "            print(i)\n",
    "            LUT3[i] = util\n",
    "            \n",
    "        # LUT4\n",
    "        LUT4_info = [line for line in uti if \"LUT4\" in line]\n",
    "        if(LUT4_info):\n",
    "            util = int(LUT4_info[0].split(\"|\")[2].strip())\n",
    "            print(i)\n",
    "            LUT4[i] = util\n",
    "            \n",
    "        # LUT5\n",
    "        LUT5_info = [line for line in uti if \"LUT5\" in line]\n",
    "        if(LUT5_info):\n",
    "            util = int(LUT5_info[0].split(\"|\")[2].strip())\n",
    "            #print(i)\n",
    "            LUT5[i] = util\n",
    "            \n",
    "        # LUT6\n",
    "        LUT6_info = [line for line in uti if \"LUT6\" in line]\n",
    "        if(LUT6_info):\n",
    "            util = int(LUT6_info[0].split(\"|\")[2].strip())\n",
    "            #print(i)\n",
    "            LUT6[i] = util\n",
    "            \n",
    "        # LUT7\n",
    "        LUT7_info = [line for line in uti if \"LUT7\" in line]\n",
    "        if(LUT7_info):\n",
    "            util = int(LUT7_info[0].split(\"|\")[2].strip())\n",
    "            #print(i)\n",
    "            LUT7[i] = util\n",
    "            \n",
    "    i += 1\n",
    "            \n",
    "        \n",
    "\n",
    "        \n",
    "\n",
    "#DynamicPower \n",
    "#print(DatapathDelay)\n",
    "print(Slice_LUTs2)"
   ]
  },
  {
   "cell_type": "code",
   "execution_count": 42,
   "id": "90fa2cf0-4e92-4b86-8c23-368a43d90f04",
   "metadata": {},
   "outputs": [
    {
     "data": {
      "text/plain": [
       "[9.882, 12.463, 18.806]"
      ]
     },
     "execution_count": 42,
     "metadata": {},
     "output_type": "execute_result"
    }
   ],
   "source": [
    "DatapathDelay"
   ]
  },
  {
   "cell_type": "code",
   "execution_count": 43,
   "id": "f25c60a6-d0d5-4348-bd8d-d510512a0b4f",
   "metadata": {},
   "outputs": [
    {
     "data": {
      "text/plain": [
       "[4.807, 10.89, 22.729]"
      ]
     },
     "execution_count": 43,
     "metadata": {},
     "output_type": "execute_result"
    }
   ],
   "source": [
    "DynamicPower"
   ]
  },
  {
   "cell_type": "code",
   "execution_count": 48,
   "id": "87ec93e8-7aa6-4fd2-9544-160473487f27",
   "metadata": {},
   "outputs": [
    {
     "name": "stdout",
     "output_type": "stream",
     "text": [
      "File Name ['top_CLA8.v', 'top_CLA16.v', 'top_CLA32.v']\n",
      "Index(['File Name'], dtype='object')\n",
      "Signal Power(W) [0.167, 0.5, 1.749]\n",
      "Index(['File Name', 'Signal Power(W)'], dtype='object')\n",
      "Logic Power(W) [0.065, 0.194, 0.505]\n",
      "Index(['File Name', 'Signal Power(W)', 'Logic Power(W)'], dtype='object')\n",
      "Static Power(W) [0.088, 0.156, 0.485]\n",
      "Index(['File Name', 'Signal Power(W)', 'Logic Power(W)', 'Static Power(W)'], dtype='object')\n",
      "DC Power(W) [4.807, 10.89, 22.729]\n",
      "Index(['File Name', 'Signal Power(W)', 'Logic Power(W)', 'Static Power(W)',\n",
      "       'DC Power(W)'],\n",
      "      dtype='object')\n",
      "Total Power(W) ['4.895', '11.046', '23.213 (Junction temp exceeded!)']\n",
      "Index(['File Name', 'Signal Power(W)', 'Logic Power(W)', 'Static Power(W)',\n",
      "       'DC Power(W)', 'Total Power(W)'],\n",
      "      dtype='object')\n",
      "DataPath Delay [9.882, 12.463, 18.806]\n",
      "Index(['File Name', 'Signal Power(W)', 'Logic Power(W)', 'Static Power(W)',\n",
      "       'DC Power(W)', 'Total Power(W)', 'DataPath Delay'],\n",
      "      dtype='object')\n",
      "F7_Muxes [0, 0, 0]\n",
      "Index(['File Name', 'Signal Power(W)', 'Logic Power(W)', 'Static Power(W)',\n",
      "       'DC Power(W)', 'Total Power(W)', 'DataPath Delay', 'F7_Muxes'],\n",
      "      dtype='object')\n",
      "LUT_as_Memory [0, 0, 0]\n",
      "Index(['File Name', 'Signal Power(W)', 'Logic Power(W)', 'Static Power(W)',\n",
      "       'DC Power(W)', 'Total Power(W)', 'DataPath Delay', 'F7_Muxes',\n",
      "       'LUT_as_Memory'],\n",
      "      dtype='object')\n",
      "LUT_as_Logic [13, 35, 96]\n",
      "Index(['File Name', 'Signal Power(W)', 'Logic Power(W)', 'Static Power(W)',\n",
      "       'DC Power(W)', 'Total Power(W)', 'DataPath Delay', 'F7_Muxes',\n",
      "       'LUT_as_Memory', 'LUT_as_Logic'],\n",
      "      dtype='object')\n",
      "Slice_LUTs [13, 35, 96]\n",
      "Index(['File Name', 'Signal Power(W)', 'Logic Power(W)', 'Static Power(W)',\n",
      "       'DC Power(W)', 'Total Power(W)', 'DataPath Delay', 'F7_Muxes',\n",
      "       'LUT_as_Memory', 'LUT_as_Logic', 'Slice_LUTs'],\n",
      "      dtype='object')\n",
      "LUT1 [0, 0, 0]\n",
      "Index(['File Name', 'Signal Power(W)', 'Logic Power(W)', 'Static Power(W)',\n",
      "       'DC Power(W)', 'Total Power(W)', 'DataPath Delay', 'F7_Muxes',\n",
      "       'LUT_as_Memory', 'LUT_as_Logic', 'Slice_LUTs', 'LUT1'],\n",
      "      dtype='object')\n",
      "LUT2 [1, 6, 26]\n",
      "Index(['File Name', 'Signal Power(W)', 'Logic Power(W)', 'Static Power(W)',\n",
      "       'DC Power(W)', 'Total Power(W)', 'DataPath Delay', 'F7_Muxes',\n",
      "       'LUT_as_Memory', 'LUT_as_Logic', 'Slice_LUTs', 'LUT1', 'LUT2'],\n",
      "      dtype='object')\n",
      "LUT3 [2, 4, 9]\n",
      "Index(['File Name', 'Signal Power(W)', 'Logic Power(W)', 'Static Power(W)',\n",
      "       'DC Power(W)', 'Total Power(W)', 'DataPath Delay', 'F7_Muxes',\n",
      "       'LUT_as_Memory', 'LUT_as_Logic', 'Slice_LUTs', 'LUT1', 'LUT2', 'LUT3'],\n",
      "      dtype='object')\n",
      "LUT4 [3, 8, 14]\n",
      "Index(['File Name', 'Signal Power(W)', 'Logic Power(W)', 'Static Power(W)',\n",
      "       'DC Power(W)', 'Total Power(W)', 'DataPath Delay', 'F7_Muxes',\n",
      "       'LUT_as_Memory', 'LUT_as_Logic', 'Slice_LUTs', 'LUT1', 'LUT2', 'LUT3',\n",
      "       'LUT4'],\n",
      "      dtype='object')\n",
      "LUT5 [3, 5, 15]\n",
      "Index(['File Name', 'Signal Power(W)', 'Logic Power(W)', 'Static Power(W)',\n",
      "       'DC Power(W)', 'Total Power(W)', 'DataPath Delay', 'F7_Muxes',\n",
      "       'LUT_as_Memory', 'LUT_as_Logic', 'Slice_LUTs', 'LUT1', 'LUT2', 'LUT3',\n",
      "       'LUT4', 'LUT5'],\n",
      "      dtype='object')\n",
      "LUT6 [6, 22, 59]\n",
      "Index(['File Name', 'Signal Power(W)', 'Logic Power(W)', 'Static Power(W)',\n",
      "       'DC Power(W)', 'Total Power(W)', 'DataPath Delay', 'F7_Muxes',\n",
      "       'LUT_as_Memory', 'LUT_as_Logic', 'Slice_LUTs', 'LUT1', 'LUT2', 'LUT3',\n",
      "       'LUT4', 'LUT5', 'LUT6'],\n",
      "      dtype='object')\n",
      "LUT7 [0, 0, 0]\n",
      "Index(['File Name', 'Signal Power(W)', 'Logic Power(W)', 'Static Power(W)',\n",
      "       'DC Power(W)', 'Total Power(W)', 'DataPath Delay', 'F7_Muxes',\n",
      "       'LUT_as_Memory', 'LUT_as_Logic', 'Slice_LUTs', 'LUT1', 'LUT2', 'LUT3',\n",
      "       'LUT4', 'LUT5', 'LUT6', 'LUT7'],\n",
      "      dtype='object')\n",
      "LUT_as_Memory2 [0, 0, 0]\n",
      "Index(['File Name', 'Signal Power(W)', 'Logic Power(W)', 'Static Power(W)',\n",
      "       'DC Power(W)', 'Total Power(W)', 'DataPath Delay', 'F7_Muxes',\n",
      "       'LUT_as_Memory', 'LUT_as_Logic', 'Slice_LUTs', 'LUT1', 'LUT2', 'LUT3',\n",
      "       'LUT4', 'LUT5', 'LUT6', 'LUT7', 'LUT_as_Memory2'],\n",
      "      dtype='object')\n",
      "LUT_as_Logic2 [13, 35, 96]\n",
      "Index(['File Name', 'Signal Power(W)', 'Logic Power(W)', 'Static Power(W)',\n",
      "       'DC Power(W)', 'Total Power(W)', 'DataPath Delay', 'F7_Muxes',\n",
      "       'LUT_as_Memory', 'LUT_as_Logic', 'Slice_LUTs', 'LUT1', 'LUT2', 'LUT3',\n",
      "       'LUT4', 'LUT5', 'LUT6', 'LUT7', 'LUT_as_Memory2', 'LUT_as_Logic2'],\n",
      "      dtype='object')\n",
      "Slice_LUTs2 [4, 10, 33]\n",
      "Index(['File Name', 'Signal Power(W)', 'Logic Power(W)', 'Static Power(W)',\n",
      "       'DC Power(W)', 'Total Power(W)', 'DataPath Delay', 'F7_Muxes',\n",
      "       'LUT_as_Memory', 'LUT_as_Logic', 'Slice_LUTs', 'LUT1', 'LUT2', 'LUT3',\n",
      "       'LUT4', 'LUT5', 'LUT6', 'LUT7', 'LUT_as_Memory2', 'LUT_as_Logic2',\n",
      "       'Slice_LUTs2'],\n",
      "      dtype='object')\n",
      "LUTs_difference [9, 25, 63]\n",
      "Index(['File Name', 'Signal Power(W)', 'Logic Power(W)', 'Static Power(W)',\n",
      "       'DC Power(W)', 'Total Power(W)', 'DataPath Delay', 'F7_Muxes',\n",
      "       'LUT_as_Memory', 'LUT_as_Logic', 'Slice_LUTs', 'LUT1', 'LUT2', 'LUT3',\n",
      "       'LUT4', 'LUT5', 'LUT6', 'LUT7', 'LUT_as_Memory2', 'LUT_as_Logic2',\n",
      "       'Slice_LUTs2', 'LUTs_difference'],\n",
      "      dtype='object')\n",
      "     File Name  Signal Power(W)  Logic Power(W)  Static Power(W)  DC Power(W)  \\\n",
      "0   top_CLA8.v            0.167           0.065            0.088        4.807   \n",
      "1  top_CLA16.v            0.500           0.194            0.156       10.890   \n",
      "2  top_CLA32.v            1.749           0.505            0.485       22.729   \n",
      "\n",
      "                     Total Power(W)  DataPath Delay  F7_Muxes  LUT_as_Memory  \\\n",
      "0                             4.895           9.882         0              0   \n",
      "1                            11.046          12.463         0              0   \n",
      "2  23.213 (Junction temp exceeded!)          18.806         0              0   \n",
      "\n",
      "   LUT_as_Logic  ...  LUT2  LUT3  LUT4  LUT5  LUT6  LUT7  LUT_as_Memory2  \\\n",
      "0            13  ...     1     2     3     3     6     0               0   \n",
      "1            35  ...     6     4     8     5    22     0               0   \n",
      "2            96  ...    26     9    14    15    59     0               0   \n",
      "\n",
      "   LUT_as_Logic2  Slice_LUTs2  LUTs_difference  \n",
      "0             13            4                9  \n",
      "1             35           10               25  \n",
      "2             96           33               63  \n",
      "\n",
      "[3 rows x 22 columns]\n"
     ]
    }
   ],
   "source": [
    "#result = [top_modules, DatapathDelay, DynamicPower, Utilization]\n",
    "#df = pd.DataFrame(result)\n",
    "columns = [\"File Name\", \"Signal Power(W)\", \"Logic Power(W)\", \"Static Power(W)\" ,\"DC Power(W)\" ,\"Total Power(W)\" ,\"DataPath Delay\", \n",
    "           \"F7_Muxes\", \"LUT_as_Memory\", \"LUT_as_Logic\", \"Slice_LUTs\", \"LUT1\", \"LUT2\", \"LUT3\", \"LUT4\", \"LUT5\", \"LUT6\", \"LUT7\", \n",
    "            \"LUT_as_Memory2\", \"LUT_as_Logic2\", \"Slice_LUTs2\", \"LUTs_difference\"] \n",
    "\n",
    "columns_array = [top_modules, SignalPower, LogicPower , StaticPower, DynamicPower, TotalPower, DatapathDelay, \n",
    "                 F7_Muxes, LUT_as_Memory, LUT_as_Logic, Slice_LUTs, LUT1, LUT2, LUT3, LUT4, LUT5, LUT6, LUT7, \n",
    "                 LUT_as_Memory2, LUT_as_Logic2, Slice_LUTs2, LUTs_difference]\n",
    "        \n",
    "\n",
    "\n",
    "#df.insert(loc=0, column='Metric', value=col)\n",
    "\n",
    "df = pd.DataFrame()\n",
    "#df[\"File Name\"] = top_modules\n",
    "\n",
    "l = len(columns)\n",
    "\n",
    "for x in range(0, l):\n",
    "    df[columns[x]] = columns_array[x] \n",
    "    print(columns[x], columns_array[x])\n",
    "    print(df.columns)\n",
    "\n",
    "df.to_csv(\"Result/Result3.csv\",index=None)\n",
    "\n",
    "\n",
    "print(df)"
   ]
  },
  {
   "cell_type": "code",
   "execution_count": null,
   "id": "be860499-bde3-435a-b36f-6b97a8199ef3",
   "metadata": {},
   "outputs": [],
   "source": []
  },
  {
   "cell_type": "code",
   "execution_count": null,
   "id": "592a5996-d359-42aa-a7d7-782c2abd6d97",
   "metadata": {},
   "outputs": [],
   "source": []
  },
  {
   "cell_type": "code",
   "execution_count": null,
   "id": "b9409d39-c69f-4920-a14b-3a6fd5967bb4",
   "metadata": {},
   "outputs": [],
   "source": []
  }
 ],
 "metadata": {
  "kernelspec": {
   "display_name": "Python 3",
   "language": "python",
   "name": "python3"
  },
  "language_info": {
   "codemirror_mode": {
    "name": "ipython",
    "version": 3
   },
   "file_extension": ".py",
   "mimetype": "text/x-python",
   "name": "python",
   "nbconvert_exporter": "python",
   "pygments_lexer": "ipython3",
   "version": "3.6.8"
  }
 },
 "nbformat": 4,
 "nbformat_minor": 5
}
